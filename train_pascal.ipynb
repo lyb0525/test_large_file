version https://git-lfs.github.com/spec/v1
oid sha256:dd90db2b52435d93d09f1480a6c64a282faedd83cc6ef5a4194dc9b952f775e1
size 519305
